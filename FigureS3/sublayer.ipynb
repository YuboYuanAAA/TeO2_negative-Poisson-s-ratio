{
 "cells": [
  {
   "cell_type": "code",
   "execution_count": 2,
   "id": "3a7d5356",
   "metadata": {},
   "outputs": [
    {
     "name": "stderr",
     "output_type": "stream",
     "text": [
      "*c* argument looks like a single numeric RGB or RGBA sequence, which should be avoided as value-mapping will have precedence in case its length matches with *x* & *y*.  Please use the *color* keyword-argument or provide a 2D array with a single row if you intend to specify the same RGB or RGBA value for all points.\n"
     ]
    }
   ],
   "source": [
    "import matplotlib as mpl\n",
    "mpl.use('TkAgg')\n",
    "import matplotlib.pyplot as plt\n",
    "from matplotlib.font_manager import FontProperties\n",
    "from matplotlib import colors\n",
    "import pandas as pd\n",
    "import numpy as np\n",
    "from matplotlib.ticker import AutoMinorLocator, MultipleLocator, FuncFormatter\n",
    "\n",
    "font = FontProperties()\n",
    "font.set_name('Arial')\n",
    "plt.rcParams['axes.unicode_minus']=False\n",
    "mpl.rcParams['font.size'] = 16\n",
    "plt.rcParams['font.family']='Arial'\n",
    "\n",
    "file_path = r'./sublayer.xlsx'\n",
    "zigStrain = pd.read_excel(file_path, sheet_name = \"Outofplane\", usecols=[1])\n",
    "O_PR = pd.read_excel(file_path, sheet_name = \"Outofplane\", usecols=[2]) \n",
    "Te_PR = pd.read_excel(file_path, sheet_name = \"Outofplane\", usecols=[3]) \n",
    "\n",
    "l = plt.scatter(zigStrain,O_PR,c=(148/255, 25/255, 65/255),label='Outermost O', marker='s')\n",
    "l = plt.scatter(zigStrain,Te_PR,c='#F86D8A', marker='.',label='Inner Te', s=150)\n",
    "l = plt.hlines(y=0, xmin=0,xmax=8,colors=(148/255, 25/255, 65/255),linestyles='dashed',lw=0.5)\n",
    "\n",
    "plt.xlim([0,7.5]) # x range\n",
    "plt.ylim([-0.5,0.1]) # y range\n",
    "plt.xlabel('Zigzag strain (%)',fontsize=20, fontproperties=font)\n",
    "plt.ylabel('Poisson\\'s ratio',c=(148/255, 25/255, 65/255),fontsize=20, fontproperties=font)\n",
    "plt.xticks(np.arange(0, 7.5, step=1),size = 16)\n",
    "plt.yticks(size = 16)\n",
    "plt.legend(scatterpoints =1, numpoints=1,markerscale=1.0, bbox_to_anchor=(0, 0.3), loc='upper left', borderaxespad=0.5, frameon=False, handletextpad=0.1, fontsize=16)   # The location of legend.\n",
    "plt.tick_params(axis='y', labelcolor=(148/255, 25/255, 65/255))\n",
    "\n",
    "plt.savefig('sublayer_PR.png', bbox_inches = 'tight', dpi=500, transparent=True)\n",
    "plt.show()\n",
    "plt.close()\n"
   ]
  },
  {
   "cell_type": "code",
   "execution_count": null,
   "id": "b7034a81",
   "metadata": {},
   "outputs": [],
   "source": []
  },
  {
   "cell_type": "code",
   "execution_count": null,
   "id": "a9bf39c4",
   "metadata": {},
   "outputs": [],
   "source": []
  }
 ],
 "metadata": {
  "kernelspec": {
   "display_name": "Python 3 (ipykernel)",
   "language": "python",
   "name": "python3"
  },
  "language_info": {
   "codemirror_mode": {
    "name": "ipython",
    "version": 3
   },
   "file_extension": ".py",
   "mimetype": "text/x-python",
   "name": "python",
   "nbconvert_exporter": "python",
   "pygments_lexer": "ipython3",
   "version": "3.9.12"
  }
 },
 "nbformat": 4,
 "nbformat_minor": 5
}
