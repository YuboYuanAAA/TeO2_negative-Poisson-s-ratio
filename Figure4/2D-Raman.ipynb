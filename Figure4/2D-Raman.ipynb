{
 "cells": [
  {
   "cell_type": "code",
   "execution_count": 2,
   "id": "72f4d1ba",
   "metadata": {},
   "outputs": [],
   "source": [
    "import matplotlib as mpl\n",
    "mpl.use('TkAgg')\n",
    "import matplotlib.pyplot as plt\n",
    "from matplotlib.font_manager import FontProperties\n",
    "from matplotlib import colors\n",
    "import pandas as pd\n",
    "import numpy as np\n",
    "\n",
    "font = FontProperties()\n",
    "font.set_name('Arial')\n",
    "plt.rcParams['axes.unicode_minus']=False\n",
    "plt.rcParams['font.family']='Arial'\n",
    "\n",
    "file_path = r'./data_2DBeta_Raman.xlsx'\n",
    "s_cal_x = pd.read_excel(file_path, sheet_name = \"spectrum_curve\", usecols=[0]) \n",
    "s_cal_y = pd.read_excel(file_path, sheet_name = \"spectrum_curve\", usecols=[1])\n",
    "\n",
    "array_cal_x = np.array(list(map(float, np.array(s_cal_x))))\n",
    "array_cal_y = np.array(list(map(float, np.array(s_cal_y))))\n",
    "\n",
    "l = plt.plot(array_cal_x,array_cal_y,c='darkblue',lw=1.5)\n",
    "                      \n",
    "plt.xlim([500,700]) # x range\n",
    "plt.ylim([0,150]) # y range\n",
    "plt.ylabel('Raman intensity (arb. units)',fontsize=16, fontproperties=font)\n",
    "plt.xlabel(r'Raman shift (cm$^{-1}$)',fontsize=16, fontproperties=font)\n",
    "plt.xticks(size = 12)\n",
    "plt.yticks([])\n",
    "\n",
    "plt.savefig('2D_RamanSpec.png', bbox_inches = 'tight', dpi=500, transparent=True)\n",
    "plt.savefig('2D_RamanSpec.svg', bbox_inches = 'tight', dpi=600, transparent=True)\n",
    "plt.show()\n",
    "plt.close()\n",
    "\n"
   ]
  },
  {
   "cell_type": "code",
   "execution_count": null,
   "id": "c0b098b6",
   "metadata": {},
   "outputs": [],
   "source": []
  }
 ],
 "metadata": {
  "kernelspec": {
   "display_name": "Python 3 (ipykernel)",
   "language": "python",
   "name": "python3"
  },
  "language_info": {
   "codemirror_mode": {
    "name": "ipython",
    "version": 3
   },
   "file_extension": ".py",
   "mimetype": "text/x-python",
   "name": "python",
   "nbconvert_exporter": "python",
   "pygments_lexer": "ipython3",
   "version": "3.9.12"
  }
 },
 "nbformat": 4,
 "nbformat_minor": 5
}
