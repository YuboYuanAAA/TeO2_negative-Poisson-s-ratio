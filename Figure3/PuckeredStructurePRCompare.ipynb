{
 "cells": [
  {
   "cell_type": "code",
   "execution_count": 39,
   "id": "855fb24c",
   "metadata": {},
   "outputs": [],
   "source": [
    "import matplotlib as mpl\n",
    "mpl.use('TkAgg')\n",
    "import matplotlib.pyplot as plt\n",
    "from matplotlib.font_manager import FontProperties\n",
    "from matplotlib import colors\n",
    "import pandas as pd\n",
    "import numpy as np\n",
    "from matplotlib.ticker import AutoMinorLocator, MultipleLocator, FuncFormatter\n",
    "\n",
    "font = FontProperties()\n",
    "font.set_name('Arial')\n",
    "plt.rcParams['axes.unicode_minus']=False\n",
    "mpl.rcParams['font.size'] = 18\n",
    "plt.rcParams['font.family']='Arial'\n",
    "\n",
    "PR = {\n",
    "    '${\\u03bd_{\\mathrm{out}}}$ (armchair)':[0.14,0.05,0.13,0.12],\n",
    "    '${\\u03bd_{\\mathrm{in}}}$ (armchair)':[0.34,0.40,0.35,0.30],\n",
    "    '${\\u03bd_{\\mathrm{out}}}$ (zigzag)':[-0.11,-0.03,-0.09,-0.09],\n",
    "    '${\\u03bd_{\\mathrm{in}}}$ (zigzag)':[0.74,0.93,1.07,1.38]\n",
    "}\n",
    "\n",
    "plt.figure(figsize=(20,5))\n",
    "width = 0.75\n",
    "bin_width = width/4\n",
    "PR_pd = pd.DataFrame(PR)\n",
    "ind = np.arange(0,len(PR))\n",
    "\n",
    "TeO2 = PR_pd.iloc[0]\n",
    "plt.bar(ind-bin_width*1.5,TeO2,width=bin_width,color=(229/255, 199/255, 120/255),label='Beta tellurium dioxide ')\n",
    "\n",
    "BP = PR_pd.iloc[1]\n",
    "plt.bar(ind-bin_width*0.5,BP,width=bin_width,color=(209/255, 143/255, 113/255),label='Black phosphorus')\n",
    "\n",
    "As = PR_pd.iloc[2]\n",
    "plt.bar(ind+bin_width*0.5,As,width=bin_width,color=(153/255, 179/255, 131/255),label='Arsenic')\n",
    "\n",
    "Sb = PR_pd.iloc[3]\n",
    "plt.bar(ind+bin_width*1.5,Sb,width=bin_width,color=(119/255, 157/255, 176/255),label='W-phase antimonene')\n",
    "\n",
    "l = plt.hlines(y=0,xmin=-0.75,xmax=3.5,linestyles='dashed',lw=0.5)\n",
    "\n",
    "plt.legend(prop=font,fontsize=20)\n",
    "plt.ylabel('Poisson\\'s ratio',fontsize=22, fontproperties=font)\n",
    "\n",
    "plt.xticks(ind,PR_pd.columns,fontsize=22,fontproperties=font)\n",
    "plt.xlim([-0.5,3.5])\n",
    "plt.ylim([-0.3,1.5])\n",
    "plt.yticks([-0.3,0,0.3,0.6,0.9,1.2,1.5])\n",
    "plt.savefig('pucker_PR.png', bbox_inches = 'tight', dpi=500, transparent=True)\n",
    "plt.show()\n",
    "\n"
   ]
  },
  {
   "cell_type": "code",
   "execution_count": null,
   "id": "da6714b0",
   "metadata": {},
   "outputs": [],
   "source": []
  },
  {
   "cell_type": "code",
   "execution_count": null,
   "id": "881f645f",
   "metadata": {},
   "outputs": [],
   "source": []
  }
 ],
 "metadata": {
  "kernelspec": {
   "display_name": "Python 3 (ipykernel)",
   "language": "python",
   "name": "python3"
  },
  "language_info": {
   "codemirror_mode": {
    "name": "ipython",
    "version": 3
   },
   "file_extension": ".py",
   "mimetype": "text/x-python",
   "name": "python",
   "nbconvert_exporter": "python",
   "pygments_lexer": "ipython3",
   "version": "3.9.12"
  }
 },
 "nbformat": 4,
 "nbformat_minor": 5
}
