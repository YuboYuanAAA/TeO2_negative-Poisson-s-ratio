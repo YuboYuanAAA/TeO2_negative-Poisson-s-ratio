{
 "cells": [
  {
   "cell_type": "code",
   "execution_count": 1,
   "id": "28b0d778",
   "metadata": {},
   "outputs": [
    {
     "name": "stderr",
     "output_type": "stream",
     "text": [
      "*c* argument looks like a single numeric RGB or RGBA sequence, which should be avoided as value-mapping will have precedence in case its length matches with *x* & *y*.  Please use the *color* keyword-argument or provide a 2D array with a single row if you intend to specify the same RGB or RGBA value for all points.\n"
     ]
    },
    {
     "name": "stdout",
     "output_type": "stream",
     "text": [
      "The slope is:  -0.13576223526534753\n"
     ]
    }
   ],
   "source": [
    "import matplotlib as mpl\n",
    "mpl.use('TkAgg')\n",
    "import matplotlib.pyplot as plt\n",
    "from matplotlib.font_manager import FontProperties\n",
    "from matplotlib import colors\n",
    "import pandas as pd\n",
    "import numpy as np\n",
    "\n",
    "font = FontProperties()\n",
    "font.set_name('Arial')\n",
    "plt.rcParams['axes.unicode_minus']=False\n",
    "plt.rcParams['font.family']='Arial'\n",
    "mpl.rcParams['font.size'] = 16\n",
    "\n",
    "file_path = r'./PR.xlsx'\n",
    "s_armStrain = pd.read_excel(file_path, sheet_name = \"Outofplane\", usecols=[1])\n",
    "s_thickStrain = pd.read_excel(file_path, sheet_name = \"Outofplane\", usecols=[3]) \n",
    "s_zPR = pd.read_excel(file_path, sheet_name = \"Outofplane\", usecols=[4]) \n",
    "\n",
    "array_armStrain = np.array(list(map(float, np.array(s_armStrain))))\n",
    "array_thickStrain = np.array(list(map(float, np.array(s_thickStrain))))\n",
    "array_zPR = np.array(list(map(float, np.array(s_zPR))))\n",
    "\n",
    "fig = plt.figure()\n",
    "ax = fig.add_subplot(111)\n",
    "\n",
    "ax.scatter(s_armStrain,s_thickStrain,c='#386890', marker='s', s=50)\n",
    "ax2 = ax.twinx()\n",
    "ax2.scatter(s_armStrain, s_zPR, c=(148/255, 25/255, 65/255), marker='.', s=200)\n",
    "\n",
    "linear_strain = np.polyfit(array_armStrain,array_thickStrain,1)\n",
    "\n",
    "l = ax.plot(array_armStrain,linear_strain[0]*array_armStrain+linear_strain[1],c='#386890',linestyle='--',lw=2)\n",
    "l = ax2.hlines(y=0, xmin=-2,xmax=2,colors=(148/255, 25/255, 65/255),linestyles='dashed', label='-',lw=0.5)\n",
    "print(\"The slope is: \",linear_strain[0])\n",
    "\n",
    "ax.set_xlim([-1.25,1.25]) # x range\n",
    "ax.set_ylim([-0.2,0.2]) # y range\n",
    "ax2.set_ylim([-0.2,1]) # y range\n",
    "ax.set_ylabel('Thickness strain (%)',c='#386890',fontsize=20, fontproperties=font)\n",
    "ax.set_xlabel('Armchair strain (%)',fontsize=20, fontproperties=font)\n",
    "ax2.set_ylabel('Out-of-plane Poisson\\'s ratio',c=(148/255, 25/255, 65/255),fontsize=20, fontproperties=font)\n",
    "ax.tick_params(axis='y', labelcolor='#386890')\n",
    "ax2.tick_params(axis='y', labelcolor=(148/255, 25/255, 65/255))\n",
    "\n",
    "plt.savefig('armchair.png', bbox_inches = 'tight', dpi=500, transparent=True)\n",
    "plt.show()\n"
   ]
  },
  {
   "cell_type": "code",
   "execution_count": 2,
   "id": "16708c62",
   "metadata": {},
   "outputs": [
    {
     "name": "stderr",
     "output_type": "stream",
     "text": [
      "*c* argument looks like a single numeric RGB or RGBA sequence, which should be avoided as value-mapping will have precedence in case its length matches with *x* & *y*.  Please use the *color* keyword-argument or provide a 2D array with a single row if you intend to specify the same RGB or RGBA value for all points.\n"
     ]
    },
    {
     "name": "stdout",
     "output_type": "stream",
     "text": [
      "The slope is:  0.10776444534059682\n"
     ]
    }
   ],
   "source": [
    "import matplotlib as mpl\n",
    "mpl.use('TkAgg')\n",
    "import matplotlib.pyplot as plt\n",
    "from matplotlib.font_manager import FontProperties\n",
    "from matplotlib import colors\n",
    "import pandas as pd\n",
    "import numpy as np\n",
    "\n",
    "font = FontProperties()\n",
    "font.set_name('Arial')\n",
    "plt.rcParams['axes.unicode_minus']=False\n",
    "plt.rcParams['font.family']='Arial'\n",
    "mpl.rcParams['font.size'] = 16\n",
    "\n",
    "file_path = r'./PR.xlsx'\n",
    "s_zigStrain = pd.read_excel(file_path, sheet_name = \"Outofplane\", usecols=[7])\n",
    "s_thickStrain = pd.read_excel(file_path, sheet_name = \"Outofplane\", usecols=[9]) \n",
    "s_zPR = pd.read_excel(file_path, sheet_name = \"Outofplane\", usecols=[10]) \n",
    "\n",
    "array_zigStrain = np.array(list(map(float, np.array(s_zigStrain))))\n",
    "array_thickStrain = np.array(list(map(float, np.array(s_thickStrain))))\n",
    "array_zPR = np.array(list(map(float, np.array(s_zPR))))\n",
    "\n",
    "fig = plt.figure()\n",
    "ax = fig.add_subplot(111)\n",
    "\n",
    "ax.scatter(s_zigStrain,s_thickStrain,c='#386890', marker='s', s=50)\n",
    "ax2 = ax.twinx()\n",
    "ax2.scatter(s_zigStrain, s_zPR, c=(148/255, 25/255, 65/255), marker='.', s=200)\n",
    "\n",
    "linear_strain = np.polyfit(array_zigStrain,array_thickStrain,1)\n",
    "\n",
    "l = ax.plot(array_zigStrain,linear_strain[0]*array_zigStrain+linear_strain[1],c='#386890',linestyle='--',lw=2)\n",
    "l = ax2.hlines(y=0, xmin=-2,xmax=2,colors=(148/255, 25/255, 65/255),linestyles='dashed', label='-',lw=0.5)\n",
    "print(\"The slope is: \",linear_strain[0])\n",
    "\n",
    "ax.set_xlim([-1.25,1.25]) # x range\n",
    "ax.set_ylim([-0.2,0.2]) # y range\n",
    "ax2.set_ylim([-0.2,1]) # y range\n",
    "ax.set_ylabel('Thickness strain (%)',c='#386890',fontsize=20, fontproperties=font)\n",
    "ax.set_xlabel('Zigzag strain (%)',fontsize=20, fontproperties=font)\n",
    "ax2.set_ylabel('Out-of-plane Poisson\\'s ratio',c=(148/255, 25/255, 65/255),fontsize=20, fontproperties=font)\n",
    "ax.tick_params(axis='y', labelcolor='#386890')\n",
    "ax2.tick_params(axis='y', labelcolor=(148/255, 25/255, 65/255))\n",
    "\n",
    "plt.savefig('zigzag.png', bbox_inches = 'tight', dpi=500, transparent=True)\n",
    "plt.show()\n"
   ]
  },
  {
   "cell_type": "code",
   "execution_count": null,
   "id": "31a52991",
   "metadata": {},
   "outputs": [],
   "source": []
  }
 ],
 "metadata": {
  "kernelspec": {
   "display_name": "Python 3 (ipykernel)",
   "language": "python",
   "name": "python3"
  },
  "language_info": {
   "codemirror_mode": {
    "name": "ipython",
    "version": 3
   },
   "file_extension": ".py",
   "mimetype": "text/x-python",
   "name": "python",
   "nbconvert_exporter": "python",
   "pygments_lexer": "ipython3",
   "version": "3.9.12"
  }
 },
 "nbformat": 4,
 "nbformat_minor": 5
}
