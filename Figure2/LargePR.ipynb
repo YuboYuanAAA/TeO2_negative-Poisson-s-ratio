{
 "cells": [
  {
   "cell_type": "code",
   "execution_count": 11,
   "id": "abf9cd5a",
   "metadata": {},
   "outputs": [
    {
     "name": "stderr",
     "output_type": "stream",
     "text": [
      "*c* argument looks like a single numeric RGB or RGBA sequence, which should be avoided as value-mapping will have precedence in case its length matches with *x* & *y*.  Please use the *color* keyword-argument or provide a 2D array with a single row if you intend to specify the same RGB or RGBA value for all points.\n"
     ]
    }
   ],
   "source": [
    "import matplotlib as mpl\n",
    "mpl.use('TkAgg')\n",
    "import matplotlib.pyplot as plt\n",
    "from matplotlib.font_manager import FontProperties\n",
    "from matplotlib import colors\n",
    "import pandas as pd\n",
    "import numpy as np\n",
    "from matplotlib.ticker import AutoMinorLocator, MultipleLocator, FuncFormatter\n",
    "\n",
    "font = FontProperties()\n",
    "font.set_name('Arial')\n",
    "plt.rcParams['axes.unicode_minus']=False\n",
    "mpl.rcParams['font.size'] = 16\n",
    "plt.rcParams['font.family']='Arial'\n",
    "\n",
    "file_path = r'./LargePR.xlsx'\n",
    "s_armStrain = pd.read_excel(file_path, sheet_name = \"Outofplane\", usecols=[1])\n",
    "s_thickStrain = pd.read_excel(file_path, sheet_name = \"Outofplane\", usecols=[3]) \n",
    "s_zPR = pd.read_excel(file_path, sheet_name = \"Outofplane\", usecols=[4]) \n",
    "\n",
    "array_armStrain = np.array(list(map(float, np.array(s_armStrain))))\n",
    "array_thickStrain = np.array(list(map(float, np.array(s_thickStrain))))\n",
    "array_zPR = np.array(list(map(float, np.array(s_zPR))))\n",
    "\n",
    "fig = plt.figure()\n",
    "ax = fig.add_subplot(111)\n",
    "\n",
    "ax.scatter(s_armStrain,s_thickStrain,c='#386890', marker='s')\n",
    "ax2 = ax.twinx()\n",
    "ax2.scatter(s_armStrain, s_zPR, c=(148/255, 25/255, 65/255), marker='.', s=150)\n",
    "\n",
    "ax.xaxis.set_minor_locator(AutoMinorLocator(2))\n",
    "ax.yaxis.set_minor_locator(AutoMinorLocator(4))\n",
    "ax2.yaxis.set_minor_locator(AutoMinorLocator(2))\n",
    "ax.tick_params(axis=\"x\",which=\"minor\",length=0)\n",
    "ax.tick_params(axis=\"y\",which=\"minor\",length=2)\n",
    "ax2.tick_params(axis=\"y\",which=\"minor\",length=2)\n",
    "\n",
    "\n",
    "ax.quiver(7,1,0,-0.4,color=(148/255, 25/255, 65/255),angles='xy', scale_units='xy', scale=1)\n",
    "ax.text(x=6.3,y=1.1,s='$\\mathdefault{-0.434}$',fontsize=16,fontproperties=font,c=(148/255, 25/255, 65/255))\n",
    "ax.set_xlim([0,7.5]) # x range\n",
    "ax.set_xticks(np.arange(0, 7.5, step=1))\n",
    "#ax.set_ylim([-0.5,4]) # y range\n",
    "ax.set_ylim([0,4])\n",
    "ax.set_yticks([0,1,2,3,4])\n",
    "ax2.set_ylim([-0.5,0]) # y range\n",
    "ax.set_ylabel('Thickness strain (%)',c='#386890',fontsize=20, fontproperties=font)\n",
    "ax.set_xlabel('Zigzag strain (%)',fontsize=20, fontproperties=font)\n",
    "ax2.set_ylabel('Out-of-plane Poisson\\'s ratio',c=(148/255, 25/255, 65/255),fontsize=20, fontproperties=font)\n",
    "ax.tick_params(axis='y', labelcolor='#386890')\n",
    "ax2.tick_params(axis='y', labelcolor=(148/255, 25/255, 65/255))\n",
    "\n",
    "plt.savefig('zigzag-highTensile.png', bbox_inches = 'tight', dpi=500, transparent=True)\n",
    "plt.show()\n"
   ]
  },
  {
   "cell_type": "code",
   "execution_count": null,
   "id": "d3482ec1",
   "metadata": {},
   "outputs": [],
   "source": []
  }
 ],
 "metadata": {
  "kernelspec": {
   "display_name": "Python 3 (ipykernel)",
   "language": "python",
   "name": "python3"
  },
  "language_info": {
   "codemirror_mode": {
    "name": "ipython",
    "version": 3
   },
   "file_extension": ".py",
   "mimetype": "text/x-python",
   "name": "python",
   "nbconvert_exporter": "python",
   "pygments_lexer": "ipython3",
   "version": "3.9.12"
  }
 },
 "nbformat": 4,
 "nbformat_minor": 5
}
