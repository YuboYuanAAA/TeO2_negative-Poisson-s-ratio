{
 "cells": [
  {
   "cell_type": "code",
   "execution_count": 7,
   "id": "106e9c4e",
   "metadata": {},
   "outputs": [],
   "source": [
    "import matplotlib as mpl\n",
    "mpl.use('TkAgg')\n",
    "import matplotlib.pyplot as plt\n",
    "from matplotlib.font_manager import FontProperties\n",
    "from matplotlib import colors\n",
    "import pandas as pd\n",
    "import numpy as np\n",
    "\n",
    "font = FontProperties()\n",
    "font.set_name('Arial')\n",
    "plt.rcParams['axes.unicode_minus']=False\n",
    "plt.rcParams['font.family']='Arial'\n",
    "\n",
    "file_path = r'./stress_strain.xlsx'\n",
    "s_x1 = pd.read_excel(file_path, sheet_name = \"Armchair\", usecols=[1])\n",
    "s_x2 = pd.read_excel(file_path, sheet_name = \"Zigzag\", usecols=[1])\n",
    "s_arm = pd.read_excel(file_path, sheet_name = \"Armchair\", usecols=[2]) \n",
    "s_zig = pd.read_excel(file_path, sheet_name = \"Zigzag\", usecols=[2]) \n",
    "\n",
    "array_x1 = np.array(list(map(float, np.array(s_x1))))\n",
    "array_x2 = np.array(list(map(float, np.array(s_x2))))\n",
    "array_arm = np.array(list(map(float, np.array(s_arm))))\n",
    "array_zig = np.array(list(map(float, np.array(s_zig))))\n",
    "array_elastic = np.linspace(0,8,8)\n",
    "\n",
    "s = plt.plot(array_x1,array_arm,color=(134/255, 147/255, 117/255), linestyle='--',marker='o',markeredgecolor=(134/255, 147/255, 117/255),label='Armchair', markersize=8)\n",
    "s = plt.plot(array_x2,array_zig,color=(109/255, 154/255, 163/255), linestyle='--',marker='o',markeredgecolor=(109/255, 154/255, 163/255),label='Zigzag', markersize=8)\n",
    "l = plt.plot(array_elastic,0.289567346*array_elastic,c='grey',linestyle='--',lw=0.5)\n",
    "l = plt.hlines(y=2.03,xmin=0,xmax=8,colors='grey',linestyles='--',lw=0.5)\n",
    "l = plt.vlines(x=7,ymin=0,ymax=2.5,colors='grey',linestyles='--',lw=0.5)\n",
    "\n",
    "plt.minorticks_on() \n",
    "plt.tick_params(axis=\"x\",which=\"minor\",length=4)\n",
    "\n",
    "plt.xlim([0,20]) # x range\n",
    "plt.ylim([0,6]) # y range\n",
    "plt.ylabel('Stress (GPa)',fontsize=20, fontproperties=font)\n",
    "plt.xlabel('Strain (%)',fontsize=20, fontproperties=font)\n",
    "plt.xticks(range(0,21,4),size = 16)\n",
    "plt.yticks(size = 16)\n",
    "plt.legend(scatterpoints =1, numpoints=1,markerscale=1.0, bbox_to_anchor=(0, 0.97), loc='upper left', borderaxespad=0.5, frameon=False, handletextpad=0.1, fontsize=16)   # The location of legend.\n",
    "\n",
    "plt.savefig('Stress.png', bbox_inches = 'tight', dpi=500, transparent=True)\n",
    "plt.show()\n",
    "plt.close()\n"
   ]
  },
  {
   "cell_type": "code",
   "execution_count": null,
   "id": "aedb3a65",
   "metadata": {},
   "outputs": [],
   "source": []
  },
  {
   "cell_type": "code",
   "execution_count": null,
   "id": "c2448e94",
   "metadata": {},
   "outputs": [],
   "source": []
  }
 ],
 "metadata": {
  "kernelspec": {
   "display_name": "Python 3 (ipykernel)",
   "language": "python",
   "name": "python3"
  },
  "language_info": {
   "codemirror_mode": {
    "name": "ipython",
    "version": 3
   },
   "file_extension": ".py",
   "mimetype": "text/x-python",
   "name": "python",
   "nbconvert_exporter": "python",
   "pygments_lexer": "ipython3",
   "version": "3.9.12"
  }
 },
 "nbformat": 4,
 "nbformat_minor": 5
}
