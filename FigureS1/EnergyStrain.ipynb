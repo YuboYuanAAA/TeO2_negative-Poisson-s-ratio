{
 "cells": [
  {
   "cell_type": "code",
   "execution_count": 4,
   "id": "ca49dece",
   "metadata": {},
   "outputs": [
    {
     "name": "stderr",
     "output_type": "stream",
     "text": [
      "*c* argument looks like a single numeric RGB or RGBA sequence, which should be avoided as value-mapping will have precedence in case its length matches with *x* & *y*.  Please use the *color* keyword-argument or provide a 2D array with a single row if you intend to specify the same RGB or RGBA value for all points.\n",
      "*c* argument looks like a single numeric RGB or RGBA sequence, which should be avoided as value-mapping will have precedence in case its length matches with *x* & *y*.  Please use the *color* keyword-argument or provide a 2D array with a single row if you intend to specify the same RGB or RGBA value for all points.\n"
     ]
    },
    {
     "name": "stdout",
     "output_type": "stream",
     "text": [
      "The 2nd derivative along armchair is:  39.52391837908506\n",
      "The 2nd derivative along zigzag is:  86.37475445566724\n"
     ]
    }
   ],
   "source": [
    "import matplotlib as mpl\n",
    "mpl.use('TkAgg')\n",
    "import matplotlib.pyplot as plt\n",
    "from matplotlib.font_manager import FontProperties\n",
    "from matplotlib import colors\n",
    "import pandas as pd\n",
    "import numpy as np\n",
    "\n",
    "font = FontProperties()\n",
    "font.set_name('Arial')\n",
    "plt.rcParams['axes.unicode_minus']=False\n",
    "plt.rcParams['font.family']='Arial'\n",
    "\n",
    "file_path = r'./data.xlsx'\n",
    "s_x = pd.read_excel(file_path, sheet_name = \"Armchair\", usecols=[1])\n",
    "s_arm = pd.read_excel(file_path, sheet_name = \"Armchair\", usecols=[3]) \n",
    "s_zig = pd.read_excel(file_path, sheet_name = \"Zigzag\", usecols=[3]) \n",
    "\n",
    "array_x = np.array(list(map(float, np.array(s_x))))\n",
    "array_fit = np.linspace(-1,1,100)\n",
    "array_arm = np.array(list(map(float, np.array(s_arm))))\n",
    "array_zig = np.array(list(map(float, np.array(s_zig))))\n",
    "\n",
    "secondOrderFit_arm = np.polyfit(array_x,array_arm,2)\n",
    "secondOrderFit_zig = np.polyfit(array_x,array_zig,2)\n",
    "\n",
    "l = plt.plot(array_fit,secondOrderFit_arm[0]*array_fit**2+secondOrderFit_arm[1]*array_fit+secondOrderFit_arm[2],c=(134/255, 147/255, 117/255),linestyle='--',lw=2)\n",
    "l = plt.scatter(array_x,array_arm,c=(134/255, 147/255, 117/255), marker='o',label='Armchair',s=50)\n",
    "l = plt.plot(array_fit,secondOrderFit_zig[0]*array_fit**2+secondOrderFit_zig[1]*array_fit+secondOrderFit_zig[2],c=(109/255, 154/255, 163/255),linestyle='--',lw=2)\n",
    "l = plt.scatter(array_x,array_zig,c=(109/255, 154/255, 163/255), marker='o',label='Zigzag',s=50)\n",
    "print(\"The 2nd derivative along armchair is: \",secondOrderFit_arm[0]*2*10)\n",
    "print(\"The 2nd derivative along zigzag is: \",secondOrderFit_zig[0]*2*10)\n",
    "\n",
    "plt.xlim([-1.25,1.25]) # x range\n",
    "plt.ylim([0,5]) # y range\n",
    "plt.ylabel('Energy (meV)',fontsize=20, fontproperties=font)\n",
    "plt.xlabel('Strain (%)',fontsize=20, fontproperties=font)\n",
    "plt.xticks(size = 16)\n",
    "plt.yticks(size = 16)\n",
    "# plt.legend(scatterpoints =1, numpoints=1,markerscale=1.0, bbox_to_anchor=(0.3, 0.97), loc='upper left', borderaxespad=0.5, frameon=False, handletextpad=0.1, fontsize=16)   # The location of legend.\n",
    "\n",
    "plt.savefig('EnergyStrain.png', bbox_inches = 'tight', dpi=500, transparent=True)\n",
    "plt.savefig('EnergyStrain.svg', bbox_inches = 'tight', dpi=600, transparent=True)\n",
    "plt.show()\n",
    "plt.close()\n"
   ]
  },
  {
   "cell_type": "code",
   "execution_count": null,
   "id": "c6b0d582",
   "metadata": {},
   "outputs": [],
   "source": []
  }
 ],
 "metadata": {
  "kernelspec": {
   "display_name": "Python 3 (ipykernel)",
   "language": "python",
   "name": "python3"
  },
  "language_info": {
   "codemirror_mode": {
    "name": "ipython",
    "version": 3
   },
   "file_extension": ".py",
   "mimetype": "text/x-python",
   "name": "python",
   "nbconvert_exporter": "python",
   "pygments_lexer": "ipython3",
   "version": "3.9.12"
  }
 },
 "nbformat": 4,
 "nbformat_minor": 5
}
